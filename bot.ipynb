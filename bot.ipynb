{
 "cells": [
  {
   "cell_type": "code",
   "execution_count": 1,
   "id": "formal-reflection",
   "metadata": {},
   "outputs": [
    {
     "ename": "ModuleNotFoundError",
     "evalue": "No module named 'keys'",
     "output_type": "error",
     "traceback": [
      "\u001b[0;31m---------------------------------------------------------------------------\u001b[0m",
      "\u001b[0;31mModuleNotFoundError\u001b[0m                       Traceback (most recent call last)",
      "\u001b[0;32m<ipython-input-1-1fb0c13824c3>\u001b[0m in \u001b[0;36m<module>\u001b[0;34m\u001b[0m\n\u001b[1;32m      2\u001b[0m \u001b[0;32mimport\u001b[0m \u001b[0mtime\u001b[0m\u001b[0;34m,\u001b[0m \u001b[0mrequests\u001b[0m\u001b[0;34m\u001b[0m\u001b[0;34m\u001b[0m\u001b[0m\n\u001b[1;32m      3\u001b[0m \u001b[0;34m\u001b[0m\u001b[0m\n\u001b[0;32m----> 4\u001b[0;31m \u001b[0;32mfrom\u001b[0m \u001b[0mkeys\u001b[0m \u001b[0;32mimport\u001b[0m \u001b[0mpath\u001b[0m\u001b[0;34m\u001b[0m\u001b[0;34m\u001b[0m\u001b[0m\n\u001b[0m",
      "\u001b[0;31mModuleNotFoundError\u001b[0m: No module named 'keys'"
     ]
    }
   ],
   "source": [
    "from selenium import webdriver\n",
    "import time, requests\n",
    "\n",
    "from keys import path"
   ]
  },
  {
   "cell_type": "code",
   "execution_count": 2,
   "id": "informational-roberts",
   "metadata": {},
   "outputs": [],
   "source": [
    "driver = webdriver.Chrome('/Users/amirharrison/downloads/chromedriver')"
   ]
  },
  {
   "cell_type": "code",
   "execution_count": 3,
   "id": "powerful-johnston",
   "metadata": {},
   "outputs": [],
   "source": [
    "driver.get('https://www.glassdoor.com/')"
   ]
  },
  {
   "cell_type": "code",
   "execution_count": 4,
   "id": "molecular-carol",
   "metadata": {},
   "outputs": [],
   "source": [
    "driver.find_element_by_xpath('//*[@id=\"TopNav\"]/nav/div/div/div[4]/div[1]/a').click()"
   ]
  },
  {
   "cell_type": "code",
   "execution_count": null,
   "id": "normal-brick",
   "metadata": {},
   "outputs": [],
   "source": [
    "driver.find_element_by_xpath('//*[@id=\"LoginModal\"]/div/div/div[2]/div[2]/div[2]/div/div/div/div[3]/form/div[1]/div/label').send_keys(username)\n",
    "driver.find_element_by_xpath('//*[@id=\"LoginModal\"]/div/div/div[2]/div[2]/div[2]/div/div/div/div[3]/form/div[2]/div/label').send_keys(password)\n",
    "driver.find_element_by_xpath('//*[@id=\"login\"]/div[4]/form/div/input[12]').click()"
   ]
  },
  {
   "cell_type": "code",
   "execution_count": null,
   "id": "accessory-fishing",
   "metadata": {},
   "outputs": [],
   "source": [
    "driver.find_element_by_xpath('//*[@id=\"SearchForm\"]/div[2]/div/div/div').send_keys(job)\n",
    "driver.find_element_by_xpath('//*[@id=\"SearchForm\"]/div[2]/button/span/svg').click()"
   ]
  },
  {
   "cell_type": "code",
   "execution_count": null,
   "id": "aggregate-albert",
   "metadata": {},
   "outputs": [],
   "source": [
    "titles = [ x.text for x in title_elements ]\n",
    "places = [ x.text for x in places_elements ]"
   ]
  }
 ],
 "metadata": {
  "kernelspec": {
   "display_name": "Python 3",
   "language": "python",
   "name": "python3"
  },
  "language_info": {
   "codemirror_mode": {
    "name": "ipython",
    "version": 3
   },
   "file_extension": ".py",
   "mimetype": "text/x-python",
   "name": "python",
   "nbconvert_exporter": "python",
   "pygments_lexer": "ipython3",
   "version": "3.9.2"
  }
 },
 "nbformat": 4,
 "nbformat_minor": 5
}
